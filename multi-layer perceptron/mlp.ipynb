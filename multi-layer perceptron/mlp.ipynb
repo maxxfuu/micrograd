{
 "cells": [
  {
   "cell_type": "code",
   "execution_count": 1,
   "metadata": {},
   "outputs": [],
   "source": [
    "import numpy as np \n",
    "import pandas as pd"
   ]
  },
  {
   "cell_type": "code",
   "execution_count": 15,
   "metadata": {},
   "outputs": [],
   "source": [
    "class Input_Layer:\n",
    "    \n",
    "    def __init__(self, size, inputs): \n",
    "        self.inputs = inputs\n",
    "        self.weight = np.random.randn(size, len(inputs))\n",
    "        self.bias = np.random.randn(size) * 10\n",
    "        \n",
    "    def show_attribute(self): \n",
    "        print(\"Input Vector : \", self.inputs)\n",
    "        print(\"Weight Matrix: \\n\", self.weight)\n",
    "        print(\"Biases Vector: \", self.bias) \n",
    "\n",
    "    def forward_pass(self): \n",
    "        self.inputs.reshape(1, 7)\n",
    "        \n",
    "        output = np.dot(self.inputs * self.weight.T + self.bias)\n",
    "        return output"
   ]
  },
  {
   "cell_type": "code",
   "execution_count": 16,
   "metadata": {},
   "outputs": [
    {
     "name": "stdout",
     "output_type": "stream",
     "text": [
      "Input Vector :  [1.0, 7.0, -9.0, 2.0]\n",
      "Weight Matrix: \n",
      " [[ 0.34201596  0.78478959  0.44007022  0.31981382]\n",
      " [-1.01900058  1.87940734  0.57921522 -0.35907658]\n",
      " [-1.09049753 -1.67202728 -0.73093016 -2.08909825]\n",
      " [-2.27758371  2.10359881 -2.52282102 -0.83677389]\n",
      " [-0.28165232  0.1578732  -1.96691929  0.33655439]\n",
      " [-1.02254245 -1.74373826  0.955592    0.75445595]\n",
      " [-0.94840562 -1.27403113 -1.17912051 -1.21884027]]\n",
      "Biases Vector:  [  3.18681035  -4.20622282   4.23039963  -4.62524379  -7.82853942\n",
      "   2.10572712 -14.75705155]\n"
     ]
    }
   ],
   "source": [
    "#Creating an Input Layer \n",
    "\n",
    "layer_size = 7\n",
    "inputs = [1.0, 7.0, -9.0, 2.-0]\n",
    "\n",
    "Layer1 = Input_Layer(layer_size, inputs)\n",
    "Layer1.show_attribute()"
   ]
  },
  {
   "cell_type": "code",
   "execution_count": 17,
   "metadata": {},
   "outputs": [
    {
     "ename": "AttributeError",
     "evalue": "'list' object has no attribute 'reshape'",
     "output_type": "error",
     "traceback": [
      "\u001b[0;31m---------------------------------------------------------------------------\u001b[0m",
      "\u001b[0;31mAttributeError\u001b[0m                            Traceback (most recent call last)",
      "Cell \u001b[0;32mIn[17], line 1\u001b[0m\n\u001b[0;32m----> 1\u001b[0m Layer1\u001b[39m.\u001b[39mforward_pass()\n",
      "Cell \u001b[0;32mIn[15], line 14\u001b[0m, in \u001b[0;36mInput_Layer.forward_pass\u001b[0;34m(self)\u001b[0m\n\u001b[1;32m     13\u001b[0m \u001b[39mdef\u001b[39;00m \u001b[39mforward_pass\u001b[39m(\u001b[39mself\u001b[39m): \n\u001b[0;32m---> 14\u001b[0m     \u001b[39mself\u001b[39m\u001b[39m.\u001b[39minputs\u001b[39m.\u001b[39mreshape(\u001b[39m1\u001b[39m, \u001b[39m7\u001b[39m)\n\u001b[1;32m     15\u001b[0m     output \u001b[39m=\u001b[39m np\u001b[39m.\u001b[39mdot(\u001b[39mself\u001b[39m\u001b[39m.\u001b[39minputs \u001b[39m*\u001b[39m \u001b[39mself\u001b[39m\u001b[39m.\u001b[39mweight \u001b[39m+\u001b[39m \u001b[39mself\u001b[39m\u001b[39m.\u001b[39mbias)\n\u001b[1;32m     16\u001b[0m     \u001b[39mreturn\u001b[39;00m output\n",
      "\u001b[0;31mAttributeError\u001b[0m: 'list' object has no attribute 'reshape'"
     ]
    }
   ],
   "source": [
    "Layer1.forward_pass()"
   ]
  },
  {
   "cell_type": "code",
   "execution_count": null,
   "metadata": {},
   "outputs": [],
   "source": []
  }
 ],
 "metadata": {
  "kernelspec": {
   "display_name": "base",
   "language": "python",
   "name": "python3"
  },
  "language_info": {
   "codemirror_mode": {
    "name": "ipython",
    "version": 3
   },
   "file_extension": ".py",
   "mimetype": "text/x-python",
   "name": "python",
   "nbconvert_exporter": "python",
   "pygments_lexer": "ipython3",
   "version": "3.11.7"
  },
  "orig_nbformat": 4
 },
 "nbformat": 4,
 "nbformat_minor": 2
}
