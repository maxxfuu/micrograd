{
 "cells": [
  {
   "cell_type": "code",
   "execution_count": 1,
   "metadata": {},
   "outputs": [],
   "source": [
    "import numpy as np \n",
    "import pandas as pd\n",
    "\n",
    "np.random.seed(42)"
   ]
  },
  {
   "cell_type": "code",
   "execution_count": 2,
   "metadata": {},
   "outputs": [],
   "source": [
    "# class Layer: \n",
    "#     def __init__(self, size, loss, grad): \n",
    "#         pass \n",
    "    \n",
    "#     def mean_squared_eror(self): \n",
    "#         pass \n",
    "    \n",
    "#     def cross_entrophy_loss(self): \n",
    "#         pass \n",
    "    \n",
    "#     def backward_pass(self): \n",
    "#         pass \n",
    "    \n",
    "    "
   ]
  },
  {
   "cell_type": "code",
   "execution_count": 42,
   "metadata": {},
   "outputs": [],
   "source": [
    "class Layer:\n",
    "    \n",
    "     \n",
    "    def __init__(self, ammount_of_neurons, inputs): \n",
    "        self.inputs = inputs\n",
    "        self.weight = np.random.randn(ammount_of_neurons, len(inputs))\n",
    "        self.bias = np.zeros(shape=(1, ammount_of_neurons))\n",
    "        \n",
    "    def tanh_activation_function(self, input): \n",
    "        output = ((np.exp(input)) - np.exp(-input)) / ((np.exp(input)) + np.exp(-input)) \n",
    "        return output \n",
    "        \n",
    "    def forward_pass(self): \n",
    "        weighted_sum = np.dot(self.weight, self.inputs) + self.bias \n",
    "        output = self.tanh_activation_function(weighted_sum)\n",
    "        return output.flatten() \n",
    "        \n",
    "    \n",
    "    def show_attribute(self): \n",
    "        print(\"Input Vector : \", self.inputs)\n",
    "        print(\"Weight Matrix: \\n\", self.weight)\n",
    "        print(\"Biases Vector: \", self.bias) \n"
   ]
  },
  {
   "cell_type": "code",
   "execution_count": 43,
   "metadata": {},
   "outputs": [
    {
     "name": "stdout",
     "output_type": "stream",
     "text": [
      "Input Vector :  [1.0, 7.0, -9.0, 2.0]\n",
      "Weight Matrix: \n",
      " [[-0.39210815 -1.46351495  0.29612028  0.26105527]\n",
      " [ 0.00511346 -0.23458713 -1.41537074 -0.42064532]\n",
      " [-0.34271452 -0.80227727 -0.16128571  0.40405086]\n",
      " [ 1.8861859   0.17457781  0.25755039 -0.07444592]\n",
      " [-1.91877122 -0.02651388  0.06023021  2.46324211]\n",
      " [-0.19236096  0.30154734 -0.03471177 -1.16867804]\n",
      " [ 1.14282281  0.75193303  0.79103195 -0.90938745]]\n",
      "Biases Vector:  [[0. 0. 0. 0. 0. 0. 0.]]\n"
     ]
    }
   ],
   "source": [
    "#Creating an Input Layer of 4 inputs feeding forward into 7 neurons\n",
    "layer_1_size = 7\n",
    "inputs = [1.0, 7.0, -9.0, 2.-0]\n",
    "Layer_1 = Layer(layer_1_size, inputs)\n",
    "Layer_1.show_attribute()"
   ]
  },
  {
   "cell_type": "code",
   "execution_count": 44,
   "metadata": {},
   "outputs": [
    {
     "data": {
      "text/plain": [
       "array([-1.        ,  1.        , -0.99877575,  0.56584201,  0.97929433,\n",
       "       -0.10607911, -0.98743165])"
      ]
     },
     "execution_count": 44,
     "metadata": {},
     "output_type": "execute_result"
    }
   ],
   "source": [
    "# forward pass of the first layer \n",
    "\n",
    "o_L1 = Layer_1.forward_pass()\n",
    "o_L1"
   ]
  },
  {
   "cell_type": "code",
   "execution_count": 46,
   "metadata": {},
   "outputs": [
    {
     "name": "stdout",
     "output_type": "stream",
     "text": [
      "Input Vector :  [-1.          1.         -0.99877575  0.56584201  0.97929433 -0.10607911\n",
      " -0.98743165]\n",
      "Weight Matrix: \n",
      " [[ 0.21409374 -1.24573878  0.17318093  0.38531738 -0.88385744  0.15372511\n",
      "   0.05820872]\n",
      " [-1.1429703   0.35778736  0.56078453  1.08305124  1.05380205 -1.37766937\n",
      "  -0.93782504]\n",
      " [ 0.51503527  0.51378595  0.51504769  3.85273149  0.57089051  1.13556564\n",
      "   0.95400176]\n",
      " [ 0.65139125 -0.31526924  0.75896922 -0.77282521 -0.23681861 -0.48536355\n",
      "   0.08187414]\n",
      " [ 2.31465857 -1.86726519  0.68626019 -1.61271587 -0.47193187  1.0889506\n",
      "   0.06428002]\n",
      " [-1.07774478 -0.71530371  0.67959775 -0.73036663  0.21645859  0.04557184\n",
      "  -0.65160035]]\n",
      "Biases Vector:  [[0. 0. 0. 0. 0. 0.]]\n"
     ]
    }
   ],
   "source": [
    "layer_2_size = 6 \n",
    "inputs_2 = o_L1\n",
    "Layer_2 = Layer(layer_2_size, o_L1)\n",
    "Layer_2.show_attribute()"
   ]
  },
  {
   "attachments": {},
   "cell_type": "markdown",
   "metadata": {},
   "source": []
  },
  {
   "cell_type": "code",
   "execution_count": 10,
   "metadata": {},
   "outputs": [
    {
     "data": {
      "text/plain": [
       "((10, 1), (1, 7), (1, 10))"
      ]
     },
     "execution_count": 10,
     "metadata": {},
     "output_type": "execute_result"
    }
   ],
   "source": [
    "Layer_2.weight.shape, Layer_2.inputs.shape, Layer_2.bias.shape"
   ]
  },
  {
   "cell_type": "code",
   "execution_count": null,
   "metadata": {},
   "outputs": [],
   "source": []
  }
 ],
 "metadata": {
  "kernelspec": {
   "display_name": "base",
   "language": "python",
   "name": "python3"
  },
  "language_info": {
   "codemirror_mode": {
    "name": "ipython",
    "version": 3
   },
   "file_extension": ".py",
   "mimetype": "text/x-python",
   "name": "python",
   "nbconvert_exporter": "python",
   "pygments_lexer": "ipython3",
   "version": "3.11.7"
  },
  "orig_nbformat": 4
 },
 "nbformat": 4,
 "nbformat_minor": 2
}
