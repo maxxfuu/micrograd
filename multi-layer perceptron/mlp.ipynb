{
 "cells": [
  {
   "cell_type": "code",
   "execution_count": 33,
   "metadata": {},
   "outputs": [],
   "source": [
    "import numpy as np \n",
    "import pandas as pd\n",
    "\n",
    "np.random.seed(42)"
   ]
  },
  {
   "cell_type": "code",
   "execution_count": 34,
   "metadata": {},
   "outputs": [],
   "source": [
    "class Layer:\n",
    "     \n",
    "    def __init__(self, input_size, output_size): \n",
    "        \n",
    "        self.inputs = None \n",
    "        self.weight = np.random.randn(output_size, input_size)\n",
    "        self.bias = np.zeros(shape=(output_size, 1))\n",
    "        self.output = None \n",
    "        \n",
    "        # derivived instance field \n",
    "        self.d_bias = None \n",
    "        self.d_weight = None \n",
    "        self.d_output = None \n",
    "        self.d_input = None \n",
    "        \n",
    "    def forward_pass(self, input):\n",
    "        self.inputs = input \n",
    "        output = np.dot(self.weight , self.inputs) + self.bias\n",
    "        \n",
    "        # Clipping the output so that it doesn't overflow when passed into an activation function\n",
    "        self.output = np.round(output, 5)\n",
    "        return self.output\n",
    "        \n",
    "\n",
    "    def backward_pass(self, d_values): \n",
    "        \n",
    "        self.d_weight = np.dot(self.inputs.T)\n",
    "        self.d_bias \n",
    "        self.d_inputs\n",
    "        pass\n",
    "        \n",
    "    def show_attribute(self): \n",
    "        print(\"Input  : \\n\", self.inputs)\n",
    "        print(\"Weight : \\n\", self.weight)\n",
    "        print(\"Biases : \\n\", self.bias) \n",
    "        print(\"Output : \\n\", self.output)"
   ]
  },
  {
   "cell_type": "code",
   "execution_count": 35,
   "metadata": {},
   "outputs": [],
   "source": [
    "class Activation_Function: \n",
    "    \n",
    "    # Passing in the array/s into the function  \n",
    "    def tanh_activation_function(self, input): \n",
    "        output = np.round(((np.exp(input)) - np.exp(-input)) / ((np.exp(input)) + np.exp(-input)), 5)\n",
    "        return output \n",
    "    \n",
    "    def d_tanh_activation_function(self, input): \n",
    "        output = 1 - ((np.exp(input) - np.exp(-input))**2 / (np.exp(input) + np.exp(-input))**2) \n",
    "        return output "
   ]
  },
  {
   "cell_type": "code",
   "execution_count": 36,
   "metadata": {},
   "outputs": [],
   "source": [
    "class Mean_Squared_Error: \n",
    "\n",
    "    def mean_squared_error(self, y_pred, y_true):\n",
    "        \n",
    "        if y_pred.ndim != 1: \n",
    "            summed_matrix = y_pred.sum(axis=0)\n",
    "        else:\n",
    "            summed_matrix = y_pred \n",
    "        self.loss = np.mean((y_true - summed_matrix)**2)\n",
    "         \n",
    "        return  self.loss\n",
    "    \n",
    "    def d_mean_squared_error(self): \n",
    "        pass \n"
   ]
  },
  {
   "cell_type": "code",
   "execution_count": 37,
   "metadata": {},
   "outputs": [],
   "source": [
    "class Stocastic_Gradient_Descent: \n",
    "    \n",
    "    # By default the learning rate is set to one unless its specified \n",
    "    def __init__(self, learning_rate=1.0 ):\n",
    "        self.learning_rate = learning_rate \n",
    "        \n",
    "    def update_parameters(self, layer): \n",
    "        layer.weight += -self.learning_rate * layer.d_weight \n",
    "        layer.bias += -self.learning_rate * layer.d_bias \n",
    "    \n",
    "    def forward(self): \n",
    "        pass \n",
    "    \n",
    "    def backward(self): \n",
    "        pass \n",
    "\n",
    "        d_loss_output = -2 * (y_true - self.output) \n",
    "        d_output_weighted_sum = 1 - ((np.exp(self.output) - np.exp(-self.output))**2 / (np.exp(self.output) + np.exp(-self.output))**2) \n",
    "        \n",
    "        self.d_weight = np.dot((d_loss_output * d_output_weighted_sum ).reshape(-1, 1), self.inputs.reshape(1, -1))\n",
    "        self.d_bias = d_loss_output * d_output_weighted_sum\n",
    "\n",
    "        return self.d_weight, self.d_bias\n",
    "    \n",
    "    def gradient_descent(self, learning_rate=0.01): \n",
    "        self.weight -= learning_rate * self.d_weight \n",
    "        self.bias -= learning_rate * self.d_bias.reshape(-1, 1) "
   ]
  },
  {
   "cell_type": "code",
   "execution_count": 38,
   "metadata": {},
   "outputs": [],
   "source": [
    "y_true = [1.0, 2.0, 3.0, 4.0]\n",
    "x_input = [-1.0, 7.0, 2.0, -4.0], [-1.0, 6.0, 9.0, -4.0], [-2.0, -3.0, 2.0, -5.0] , [7.0, 3.0, 2.0, 0.0]"
   ]
  },
  {
   "cell_type": "code",
   "execution_count": 39,
   "metadata": {},
   "outputs": [],
   "source": [
    "# Layer(input, output size)\n",
    "input_layer = Layer(4, 6)\n",
    "hidden_layer_1 = Layer(6, 12) \n",
    "hidden_layer_2 = Layer(12, 8) \n",
    "hidden_layer_3 = Layer(8, 6)\n",
    "output_layer = Layer(6, 4)"
   ]
  },
  {
   "cell_type": "code",
   "execution_count": 40,
   "metadata": {},
   "outputs": [],
   "source": [
    "# Creating Necessary Objects \n",
    "activation = Activation_Function()\n",
    "compute_loss = Mean_Squared_Error() "
   ]
  },
  {
   "cell_type": "code",
   "execution_count": 41,
   "metadata": {},
   "outputs": [],
   "source": [
    "# By calling the activation function on the ouput of the current layer it updates the output. \n",
    "input_layer.forward_pass(x_input)\n",
    "input_layer.output = activation.tanh_activation_function(input_layer.output) \n",
    "\n",
    "hidden_layer_1.forward_pass(input_layer.output)\n",
    "hidden_layer_1.output = activation.tanh_activation_function(hidden_layer_1.output)\n",
    "\n",
    "hidden_layer_2.forward_pass(hidden_layer_1.output)\n",
    "hidden_layer_2.output = activation.tanh_activation_function(hidden_layer_2.output)\n",
    "\n",
    "hidden_layer_3.forward_pass(hidden_layer_2.output)\n",
    "hidden_layer_3.output = activation.tanh_activation_function(hidden_layer_3.output) \n",
    "\n",
    "output_layer.forward_pass(hidden_layer_3.output)\n",
    "output_layer.output = activation.tanh_activation_function(output_layer.output) \n"
   ]
  },
  {
   "cell_type": "code",
   "execution_count": 42,
   "metadata": {},
   "outputs": [
    {
     "data": {
      "text/plain": [
       "array([[-0.76819, -0.95778,  0.99202,  0.80476],\n",
       "       [ 0.81165, -0.93545,  0.94006, -0.74829],\n",
       "       [-0.90304,  0.64828, -0.99552,  0.90864],\n",
       "       [-0.99871, -0.99786,  0.86952,  0.99958]])"
      ]
     },
     "execution_count": 42,
     "metadata": {},
     "output_type": "execute_result"
    }
   ],
   "source": [
    "output_layer.output"
   ]
  },
  {
   "cell_type": "code",
   "execution_count": 61,
   "metadata": {},
   "outputs": [
    {
     "data": {
      "text/plain": [
       "array([-1.85829, -2.24281,  1.80608,  1.96469])"
      ]
     },
     "execution_count": 61,
     "metadata": {},
     "output_type": "execute_result"
    }
   ],
   "source": [
    "# Stacking all the rows of equal width and squashing it down \n",
    "# Summing up all the columns \n",
    "\n",
    "summed_array = np.sum(output_layer.output, axis=0)\n",
    "summed_array"
   ]
  },
  {
   "cell_type": "code",
   "execution_count": 59,
   "metadata": {},
   "outputs": [
    {
     "name": "stdout",
     "output_type": "stream",
     "text": [
      "Loss:  7.934797545675002\n",
      "Accuracy:  0.0\n"
     ]
    }
   ],
   "source": [
    "# Calling a function to compute the loss \n",
    "loss = compute_loss.mean_squared_error(output_layer.output, y_true)\n",
    "\n",
    "# Here we are finding the accuracy. \n",
    "if output_layer.output.ndim != 1: \n",
    "    predicted_labels = np.argmax(np.sum(output_layer, axis=0), axis=0)\n",
    "    accuracy = np.mean(predicted_labels == y_true)\n",
    "else: \n",
    "    predicted_labels = np.argmax(output_layer.output, axis=0) \n",
    "    accuracy = np.mean(predicted_labels == y_true)\n",
    "    \n",
    "print(\"Loss: \", loss) \n",
    "print(\"Accuracy: \", accuracy)\n",
    "\n"
   ]
  },
  {
   "cell_type": "code",
   "execution_count": 44,
   "metadata": {},
   "outputs": [
    {
     "ename": "TypeError",
     "evalue": "unsupported operand type(s) for *: 'float' and 'NoneType'",
     "output_type": "error",
     "traceback": [
      "\u001b[0;31m---------------------------------------------------------------------------\u001b[0m",
      "\u001b[0;31mTypeError\u001b[0m                                 Traceback (most recent call last)",
      "Cell \u001b[0;32mIn[44], line 3\u001b[0m\n\u001b[1;32m      1\u001b[0m sgd \u001b[39m=\u001b[39m Stocastic_Gradient_Descent()\n\u001b[0;32m----> 3\u001b[0m sgd\u001b[39m.\u001b[39mupdate_parameters(input_layer)\n\u001b[1;32m      4\u001b[0m sgd\u001b[39m.\u001b[39mupdate_parameters(hidden_layer_1)\n\u001b[1;32m      5\u001b[0m sgd\u001b[39m.\u001b[39mupdate_parameters(hidden_layer_2)\n",
      "Cell \u001b[0;32mIn[37], line 8\u001b[0m, in \u001b[0;36mStocastic_Gradient_Descent.update_parameters\u001b[0;34m(self, layer)\u001b[0m\n\u001b[1;32m      7\u001b[0m \u001b[39mdef\u001b[39;00m \u001b[39mupdate_parameters\u001b[39m(\u001b[39mself\u001b[39m, layer): \n\u001b[0;32m----> 8\u001b[0m     layer\u001b[39m.\u001b[39mweight \u001b[39m+\u001b[39m\u001b[39m=\u001b[39m \u001b[39m-\u001b[39m\u001b[39mself\u001b[39m\u001b[39m.\u001b[39mlearning_rate \u001b[39m*\u001b[39m layer\u001b[39m.\u001b[39md_weight \n\u001b[1;32m      9\u001b[0m     layer\u001b[39m.\u001b[39mbias \u001b[39m+\u001b[39m\u001b[39m=\u001b[39m \u001b[39m-\u001b[39m\u001b[39mself\u001b[39m\u001b[39m.\u001b[39mlearning_rate \u001b[39m*\u001b[39m layer\u001b[39m.\u001b[39md_bias\n",
      "\u001b[0;31mTypeError\u001b[0m: unsupported operand type(s) for *: 'float' and 'NoneType'"
     ]
    }
   ],
   "source": [
    "sgd = Stocastic_Gradient_Descent()\n",
    "\n",
    "sgd.update_parameters(input_layer)\n",
    "sgd.update_parameters(hidden_layer_1)\n",
    "sgd.update_parameters(hidden_layer_2)\n",
    "sgd.update_parameters(hidden_layer_3)\n",
    "sgd.update_parameters(output_layer)\n"
   ]
  },
  {
   "cell_type": "code",
   "execution_count": null,
   "metadata": {},
   "outputs": [],
   "source": [
    "for epochs in range(100): \n",
    "    print(\"step \", epochs, \". Loss: \", \", Accuracy: \" )\n",
    "    pass \n"
   ]
  },
  {
   "cell_type": "code",
   "execution_count": null,
   "metadata": {},
   "outputs": [],
   "source": []
  }
 ],
 "metadata": {
  "kernelspec": {
   "display_name": "base",
   "language": "python",
   "name": "python3"
  },
  "language_info": {
   "codemirror_mode": {
    "name": "ipython",
    "version": 3
   },
   "file_extension": ".py",
   "mimetype": "text/x-python",
   "name": "python",
   "nbconvert_exporter": "python",
   "pygments_lexer": "ipython3",
   "version": "3.11.7"
  },
  "orig_nbformat": 4
 },
 "nbformat": 4,
 "nbformat_minor": 2
}
