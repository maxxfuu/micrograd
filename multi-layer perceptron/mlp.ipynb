{
 "cells": [
  {
   "cell_type": "code",
   "execution_count": 269,
   "metadata": {},
   "outputs": [],
   "source": [
    "import numpy as np \n",
    "import pandas as pd\n",
    "\n",
    "np.random.seed(42)"
   ]
  },
  {
   "cell_type": "code",
   "execution_count": 270,
   "metadata": {},
   "outputs": [],
   "source": [
    "class Layer:\n",
    "     \n",
    "    def __init__(self, input_size, output_size): \n",
    "        \n",
    "        self.inputs = None \n",
    "        self.weight = np.random.randn(output_size, input_size)\n",
    "        self.bias = np.zeros(shape=(output_size, 1))\n",
    "        self.output = None \n",
    "        \n",
    "        # derivived instance field \n",
    "        self.d_bias = None \n",
    "        self.d_weight = None \n",
    "        self.d_output = None \n",
    "        self.d_input = None \n",
    "        \n",
    "    def forward_pass(self, input):\n",
    "        self.inputs = input \n",
    "        output = np.dot(self.weight , self.inputs) + self.bias\n",
    "        \n",
    "        # Clipping the output so that it doesn't overflow when passed into an activation function\n",
    "        self.output = np.round(output, 5)\n",
    "        return self.output\n",
    "        \n",
    "\n",
    "    def backward_pass(self, d_values): \n",
    "        \n",
    "        self.d_weight = np.dot(self.inputs.T)\n",
    "        self.d_bias \n",
    "        self.d_inputs\n",
    "        pass\n",
    "        \n",
    "    def show_attribute(self): \n",
    "        print(\"Input  : \\n\", self.inputs)\n",
    "        print(\"Weight : \\n\", self.weight)\n",
    "        print(\"Biases : \\n\", self.bias) \n",
    "        print(\"Output : \\n\", self.output)"
   ]
  },
  {
   "cell_type": "code",
   "execution_count": 271,
   "metadata": {},
   "outputs": [],
   "source": [
    "\n",
    "class Activation_Function: \n",
    "    \n",
    "    # Passing in the array/s into the function  \n",
    "    def tanh_activation_function(self, input): \n",
    "        output = np.round(((np.exp(input)) - np.exp(-input)) / ((np.exp(input)) + np.exp(-input)), 5)\n",
    "        return output \n",
    "    \n",
    "    def d_tanh_activation_function(self, input): \n",
    "        output = 1 - ((np.exp(input) - np.exp(-input))**2 / (np.exp(input) + np.exp(-input))**2) \n",
    "        return output \n",
    "    \n",
    "    def sigmoid_activation_function(self, input): \n",
    "        output = 1/(1 + np.exp(-(input)))\n",
    "        return output "
   ]
  },
  {
   "cell_type": "code",
   "execution_count": 272,
   "metadata": {},
   "outputs": [],
   "source": [
    "class Binary_Cross_Entropy: \n",
    "    \n",
    "    def binary_cross_entropy(self, y_pred, y_true):\n",
    "        \n",
    "        # Calculate binary cross entropy loss\n",
    "        self.loss = -np.mean(y_true * np.log(y_pred) + (1 - y_true) * np.log(1 - y_pred))\n",
    "        \n",
    "        return self.loss "
   ]
  },
  {
   "cell_type": "code",
   "execution_count": 273,
   "metadata": {},
   "outputs": [],
   "source": [
    "class Mean_Squared_Error: \n",
    "\n",
    "    def mean_squared_error(self, y_pred, y_true):\n",
    "        \n",
    "        if y_pred.ndim != 1: \n",
    "            summed_matrix = y_pred.sum(axis=0)\n",
    "        else:\n",
    "            summed_matrix = y_pred \n",
    "        self.loss = np.mean((y_true - summed_matrix)**2)\n",
    "         \n",
    "        return  self.loss\n",
    "    "
   ]
  },
  {
   "cell_type": "code",
   "execution_count": 274,
   "metadata": {},
   "outputs": [],
   "source": [
    "class Stocastic_Gradient_Descent: \n",
    "    \n",
    "    # By default the learning rate is set to one unless its specified \n",
    "    def __init__(self, learning_rate=1.0 ):\n",
    "        self.learning_rate = learning_rate \n",
    "        \n",
    "    def update_parameters(self, layer): \n",
    "        layer.weight += -self.learning_rate * layer.d_weight \n",
    "        layer.bias += -self.learning_rate * layer.d_bias \n",
    "    \n",
    "    def forward(self): \n",
    "        pass \n",
    "    \n",
    "    def backward(self): \n",
    "        pass \n",
    "\n",
    "        d_loss_output = -2 * (y_true - self.output) \n",
    "        d_output_weighted_sum = 1 - ((np.exp(self.output) - np.exp(-self.output))**2 / (np.exp(self.output) + np.exp(-self.output))**2) \n",
    "        \n",
    "        self.d_weight = np.dot((d_loss_output * d_output_weighted_sum ).reshape(-1, 1), self.inputs.reshape(1, -1))\n",
    "        self.d_bias = d_loss_output * d_output_weighted_sum\n",
    "\n",
    "        return self.d_weight, self.d_bias\n",
    "    \n",
    "    def gradient_descent(self, learning_rate=0.01): \n",
    "        self.weight -= learning_rate * self.d_weight \n",
    "        self.bias -= learning_rate * self.d_bias.reshape(-1, 1) "
   ]
  },
  {
   "cell_type": "code",
   "execution_count": 275,
   "metadata": {},
   "outputs": [],
   "source": [
    "y_true = [1.0, 1.0, 1.0, -1.0, 1.0, 1.0, -1.0, 1.0, 1.0, 1.0]\n",
    "\n",
    "x_input = [ 1.0, -1.0,  1.0,  1.0,  1.0,  1.0, -1.0,  1.0,  1.0, -1.0], [-1.0, -1.0,  1.0, -1.0, -1.0, -1.0,  1.0,  1.0, -1.0, -1.0], [ 1.0,  1.0, -1.0,  1.0, -1.0,  1.0, -1.0,  1.0, -1.0,  1.0] , [ 1.0, -1.0,  1.0, -1.0,  1.0, -1.0, -1.0,  1.0, -1.0,  1.0]"
   ]
  },
  {
   "attachments": {},
   "cell_type": "markdown",
   "metadata": {},
   "source": [
    "# Forward Pass"
   ]
  },
  {
   "cell_type": "code",
   "execution_count": 276,
   "metadata": {},
   "outputs": [],
   "source": [
    "# Layer(input, output size)\n",
    "input_layer = Layer(4, 12)\n",
    "hidden_layer_1 = Layer(12, 12) \n",
    "hidden_layer_2 = Layer(12, 8) \n",
    "hidden_layer_3 = Layer(8, 6)\n",
    "output_layer = Layer(6, 4)"
   ]
  },
  {
   "cell_type": "code",
   "execution_count": 277,
   "metadata": {},
   "outputs": [],
   "source": [
    "# Creating Necessary Objects \n",
    "activation = Activation_Function()\n",
    "loss_activation = Binary_Cross_Entropy() "
   ]
  },
  {
   "cell_type": "code",
   "execution_count": 278,
   "metadata": {},
   "outputs": [],
   "source": [
    "# By calling the activation function on the ouput of the current layer it updates the output. \n",
    "input_layer.forward_pass(x_input)\n",
    "input_layer.output = activation.sigmoid_activation_function(input_layer.output) \n",
    "\n",
    "hidden_layer_1.forward_pass(input_layer.output)\n",
    "hidden_layer_1.output = activation.sigmoid_activation_function(hidden_layer_1.output)\n",
    "\n",
    "hidden_layer_2.forward_pass(hidden_layer_1.output)\n",
    "hidden_layer_2.output = activation.sigmoid_activation_function(hidden_layer_2.output)\n",
    "\n",
    "hidden_layer_3.forward_pass(hidden_layer_2.output)\n",
    "hidden_layer_3.output = activation.sigmoid_activation_function(hidden_layer_3.output) \n",
    "\n",
    "output_layer.forward_pass(hidden_layer_3.output)\n",
    "output_layer.output = activation.sigmoid_activation_function(output_layer.output) \n"
   ]
  },
  {
   "cell_type": "code",
   "execution_count": 279,
   "metadata": {},
   "outputs": [
    {
     "data": {
      "text/plain": [
       "array([[0.24058956, 0.22014527, 0.24280724, 0.22586129, 0.23499107,\n",
       "        0.22586129, 0.21988443, 0.2431052 , 0.22283346, 0.24000173],\n",
       "       [0.06859529, 0.07148758, 0.07721661, 0.06621742, 0.08292292,\n",
       "        0.06621742, 0.08072255, 0.06184233, 0.07640257, 0.08091421],\n",
       "       [0.84153982, 0.84569009, 0.83782184, 0.84804252, 0.82326693,\n",
       "        0.84804252, 0.84096022, 0.85419508, 0.83709222, 0.83231727],\n",
       "       [0.18828233, 0.20751664, 0.19348227, 0.19734366, 0.2033916 ,\n",
       "        0.19734366, 0.21422393, 0.18240464, 0.20986655, 0.19875721]])"
      ]
     },
     "execution_count": 279,
     "metadata": {},
     "output_type": "execute_result"
    }
   ],
   "source": [
    "output_layer.output"
   ]
  },
  {
   "cell_type": "code",
   "execution_count": 237,
   "metadata": {},
   "outputs": [],
   "source": [
    "# Since the final output would be viewed as predictions, we will convert all negatives to 0 and all positives to 1\n",
    "processed_array = np.where(output_layer.output > 0, 1, 0)\n",
    "summed_array = np.sum(processed_array, axis=0)\n",
    "bool_array = np.where((summed_array == 0) | (summed_array == 1), False, True)\n",
    "accuracy = np.mean(bool_array == y_true)\n",
    "\n"
   ]
  },
  {
   "cell_type": "code",
   "execution_count": 254,
   "metadata": {},
   "outputs": [
    {
     "data": {
      "text/plain": [
       "array([[ 0.99436,  0.79552, -0.79552,  0.96657,  0.99266,  0.96657,\n",
       "        -0.99436,  0.3868 ,  0.91767,  0.61439],\n",
       "       [-0.1666 , -0.99977,  0.99977,  0.49259, -0.74627,  0.49259,\n",
       "         0.1666 ,  0.99283, -0.98228, -0.99987],\n",
       "       [ 0.73905,  0.53   , -0.53   ,  0.95931,  0.9413 ,  0.95931,\n",
       "        -0.73905, -0.68259,  0.81846,  0.39521],\n",
       "       [ 0.76322,  0.47334, -0.47334,  0.75914,  0.93303,  0.75914,\n",
       "        -0.76322,  0.13153,  0.74786,  0.31893]])"
      ]
     },
     "execution_count": 254,
     "metadata": {},
     "output_type": "execute_result"
    }
   ],
   "source": [
    "output_layer.output"
   ]
  },
  {
   "cell_type": "code",
   "execution_count": 256,
   "metadata": {},
   "outputs": [
    {
     "name": "stderr",
     "output_type": "stream",
     "text": [
      "/var/folders/80/yxql_m2n3b93pljkxwjyygr40000gn/T/ipykernel_66629/931077132.py:1: RuntimeWarning: invalid value encountered in log\n",
      "  np.log(np.round(output_layer.output,3))\n"
     ]
    },
    {
     "data": {
      "text/plain": [
       "array([[-0.00601807, -0.22815609,         nan, -0.03355678, -0.00702461,\n",
       "        -0.03355678,         nan, -0.94933059, -0.08555789, -0.48776035],\n",
       "       [        nan,         nan,  0.        , -0.7072461 ,         nan,\n",
       "        -0.7072461 , -1.78976147, -0.00702461,         nan,         nan],\n",
       "       [-0.30245736, -0.63487827,         nan, -0.0418642 , -0.06081214,\n",
       "        -0.0418642 ,         nan,         nan, -0.20089294, -0.92886951],\n",
       "       [-0.27049725, -0.74865989,         nan, -0.2757535 , -0.06935008,\n",
       "        -0.2757535 ,         nan, -2.02495336, -0.2903523 , -1.14256418]])"
      ]
     },
     "execution_count": 256,
     "metadata": {},
     "output_type": "execute_result"
    }
   ],
   "source": [
    "np.log(np.round(output_layer.output,3))"
   ]
  },
  {
   "cell_type": "code",
   "execution_count": 238,
   "metadata": {},
   "outputs": [
    {
     "ename": "TypeError",
     "evalue": "unsupported operand type(s) for -: 'int' and 'list'",
     "output_type": "error",
     "traceback": [
      "\u001b[0;31m---------------------------------------------------------------------------\u001b[0m",
      "\u001b[0;31mTypeError\u001b[0m                                 Traceback (most recent call last)",
      "Cell \u001b[0;32mIn[238], line 2\u001b[0m\n\u001b[1;32m      1\u001b[0m \u001b[39m# Calling a function to compute the loss \u001b[39;00m\n\u001b[0;32m----> 2\u001b[0m loss \u001b[39m=\u001b[39m loss_activation\u001b[39m.\u001b[39mbinary_cross_entropy(output_layer\u001b[39m.\u001b[39moutput, y_true)\n\u001b[1;32m      4\u001b[0m \u001b[39m# Here we are finding the accuracy. \u001b[39;00m\n\u001b[1;32m      5\u001b[0m \u001b[39m# Since the final output would be viewed as probability, we will essentially convert all negatives to false and all positives to true\u001b[39;00m\n\u001b[1;32m      6\u001b[0m processed_array \u001b[39m=\u001b[39m np\u001b[39m.\u001b[39mwhere(output_layer\u001b[39m.\u001b[39moutput \u001b[39m>\u001b[39m \u001b[39m0\u001b[39m, \u001b[39m1\u001b[39m, \u001b[39m0\u001b[39m)\n",
      "Cell \u001b[0;32mIn[220], line 8\u001b[0m, in \u001b[0;36mBinary_Cross_Entropy.binary_cross_entropy\u001b[0;34m(self, y_pred, y_true)\u001b[0m\n\u001b[1;32m      5\u001b[0m y_pred \u001b[39m=\u001b[39m np\u001b[39m.\u001b[39mclip(y_pred, \u001b[39m1e-15\u001b[39m, \u001b[39m1\u001b[39m \u001b[39m-\u001b[39m \u001b[39m1e-15\u001b[39m)\n\u001b[1;32m      7\u001b[0m \u001b[39m# Calculate binary cross entropy loss\u001b[39;00m\n\u001b[0;32m----> 8\u001b[0m \u001b[39mself\u001b[39m\u001b[39m.\u001b[39mloss \u001b[39m=\u001b[39m \u001b[39m-\u001b[39mnp\u001b[39m.\u001b[39mmean(y_true \u001b[39m*\u001b[39m np\u001b[39m.\u001b[39mlog(y_pred) \u001b[39m+\u001b[39m (\u001b[39m1\u001b[39m \u001b[39m-\u001b[39m y_true) \u001b[39m*\u001b[39m np\u001b[39m.\u001b[39mlog(\u001b[39m1\u001b[39m \u001b[39m-\u001b[39m y_pred))\n\u001b[1;32m     10\u001b[0m \u001b[39mreturn\u001b[39;00m \u001b[39mself\u001b[39m\u001b[39m.\u001b[39mloss\n",
      "\u001b[0;31mTypeError\u001b[0m: unsupported operand type(s) for -: 'int' and 'list'"
     ]
    }
   ],
   "source": [
    "# Calling a function to compute the loss \n",
    "loss = loss_activation.binary_cross_entropy(output_layer.output, y_true)\n",
    "\n",
    "# Here we are finding the accuracy. \n",
    "# Since the final output would be viewed as probability, we will essentially convert all negatives to false and all positives to true\n",
    "processed_array = np.where(output_layer.output > 0, 1, 0)\n",
    "summed_array = np.sum(processed_array, axis=0)\n",
    "bool_array = np.where((summed_array == 0) | (summed_array == 1), False, True)\n",
    "accuracy = np.mean(bool_array == y_true)\n",
    "    \n",
    "print(\"Loss: \", loss) \n",
    "print(\"Accuracy: \", accuracy)\n",
    "\n"
   ]
  },
  {
   "attachments": {},
   "cell_type": "markdown",
   "metadata": {},
   "source": [
    "# Backward Pass"
   ]
  },
  {
   "cell_type": "code",
   "execution_count": null,
   "metadata": {},
   "outputs": [],
   "source": [
    "optimizer = Stocastic_Gradient_Descent()"
   ]
  },
  {
   "cell_type": "code",
   "execution_count": null,
   "metadata": {},
   "outputs": [],
   "source": [
    "loss_activation.backward(output_layer.output, layer)"
   ]
  },
  {
   "cell_type": "code",
   "execution_count": null,
   "metadata": {},
   "outputs": [
    {
     "ename": "TypeError",
     "evalue": "unsupported operand type(s) for *: 'float' and 'NoneType'",
     "output_type": "error",
     "traceback": [
      "\u001b[0;31m---------------------------------------------------------------------------\u001b[0m",
      "\u001b[0;31mTypeError\u001b[0m                                 Traceback (most recent call last)",
      "Cell \u001b[0;32mIn[208], line 3\u001b[0m\n\u001b[1;32m      1\u001b[0m sgd \u001b[39m=\u001b[39m Stocastic_Gradient_Descent()\n\u001b[0;32m----> 3\u001b[0m sgd\u001b[39m.\u001b[39mupdate_parameters(input_layer)\n\u001b[1;32m      4\u001b[0m sgd\u001b[39m.\u001b[39mupdate_parameters(hidden_layer_1)\n\u001b[1;32m      5\u001b[0m sgd\u001b[39m.\u001b[39mupdate_parameters(hidden_layer_2)\n",
      "Cell \u001b[0;32mIn[200], line 8\u001b[0m, in \u001b[0;36mStocastic_Gradient_Descent.update_parameters\u001b[0;34m(self, layer)\u001b[0m\n\u001b[1;32m      7\u001b[0m \u001b[39mdef\u001b[39;00m \u001b[39mupdate_parameters\u001b[39m(\u001b[39mself\u001b[39m, layer): \n\u001b[0;32m----> 8\u001b[0m     layer\u001b[39m.\u001b[39mweight \u001b[39m+\u001b[39m\u001b[39m=\u001b[39m \u001b[39m-\u001b[39m\u001b[39mself\u001b[39m\u001b[39m.\u001b[39mlearning_rate \u001b[39m*\u001b[39m layer\u001b[39m.\u001b[39md_weight \n\u001b[1;32m      9\u001b[0m     layer\u001b[39m.\u001b[39mbias \u001b[39m+\u001b[39m\u001b[39m=\u001b[39m \u001b[39m-\u001b[39m\u001b[39mself\u001b[39m\u001b[39m.\u001b[39mlearning_rate \u001b[39m*\u001b[39m layer\u001b[39m.\u001b[39md_bias\n",
      "\u001b[0;31mTypeError\u001b[0m: unsupported operand type(s) for *: 'float' and 'NoneType'"
     ]
    }
   ],
   "source": [
    "\n",
    "\n",
    "optimizer.update_parameters(input_layer)\n",
    "optimizer.update_parameters(hidden_layer_1)\n",
    "optimizer.update_parameters(hidden_layer_2)\n",
    "optimizer.update_parameters(hidden_layer_3)\n",
    "optimizer.update_parameters(output_layer)\n"
   ]
  },
  {
   "cell_type": "code",
   "execution_count": null,
   "metadata": {},
   "outputs": [],
   "source": [
    "for epochs in range(100): \n",
    "    print(\"step \", epochs, \". Loss: \", \", Accuracy: \" )\n",
    "    pass \n"
   ]
  },
  {
   "cell_type": "code",
   "execution_count": null,
   "metadata": {},
   "outputs": [],
   "source": []
  }
 ],
 "metadata": {
  "kernelspec": {
   "display_name": "base",
   "language": "python",
   "name": "python3"
  },
  "language_info": {
   "codemirror_mode": {
    "name": "ipython",
    "version": 3
   },
   "file_extension": ".py",
   "mimetype": "text/x-python",
   "name": "python",
   "nbconvert_exporter": "python",
   "pygments_lexer": "ipython3",
   "version": "3.11.7"
  },
  "orig_nbformat": 4
 },
 "nbformat": 4,
 "nbformat_minor": 2
}
