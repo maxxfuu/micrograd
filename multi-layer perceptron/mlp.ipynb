{
 "cells": [
  {
   "cell_type": "code",
   "execution_count": 19,
   "metadata": {},
   "outputs": [],
   "source": [
    "import numpy as np \n",
    "import pandas as pd"
   ]
  },
  {
   "cell_type": "code",
   "execution_count": 20,
   "metadata": {},
   "outputs": [],
   "source": [
    "# class Layer: \n",
    "#     def __init__(self, size, loss, grad): \n",
    "#         pass \n",
    "    \n",
    "#     def mean_squared_eror(self): \n",
    "#         pass \n",
    "    \n",
    "#     def cross_entrophy_loss(self): \n",
    "#         pass \n",
    "    \n",
    "#     def backward_pass(self): \n",
    "#         pass \n",
    "    \n",
    "    "
   ]
  },
  {
   "cell_type": "code",
   "execution_count": 25,
   "metadata": {},
   "outputs": [],
   "source": [
    "class Layer:\n",
    "    \n",
    "     \n",
    "    def __init__(self, ammount_of_neurons, inputs): \n",
    "        self.inputs = inputs\n",
    "        self.weight = np.random.randn(ammount_of_neurons, len(inputs))\n",
    "        self.bias = np.zeros(shape=(1, ammount_of_neurons))\n",
    "        \n",
    "    def tanh_activation_function(self, input): \n",
    "        output = ((np.exp(input)) - np.exp(-input)) / ((np.exp(input)) + np.exp(-input)) \n",
    "        return output \n",
    "        \n",
    "    def forward_pass(self): \n",
    "        weighted_sum = np.dot(self.weight, self.inputs) + self.bias \n",
    "        output = self.tanh_activation_function(weighted_sum)\n",
    "        return output \n",
    "        \n",
    "    \n",
    "    def show_attribute(self): \n",
    "        print(\"Input Vector : \", self.inputs)\n",
    "        print(\"Weight Matrix: \\n\", self.weight)\n",
    "        print(\"Biases Vector: \", self.bias) \n"
   ]
  },
  {
   "cell_type": "code",
   "execution_count": 26,
   "metadata": {},
   "outputs": [],
   "source": [
    "#Creating an Input Layer of 4 inputs feeding forward into 7 neurons\n",
    "layer_size = 7\n",
    "inputs = [1.0, 7.0, -9.0, 2.-0]\n",
    "Layer_1 = Layer(layer_size, inputs)"
   ]
  },
  {
   "cell_type": "code",
   "execution_count": 27,
   "metadata": {},
   "outputs": [
    {
     "data": {
      "text/plain": [
       "array([[ 0.99656633,  0.99999999,  0.99999996,  1.        , -0.99999408,\n",
       "        -0.99984694, -1.        ]])"
      ]
     },
     "execution_count": 27,
     "metadata": {},
     "output_type": "execute_result"
    }
   ],
   "source": [
    "# forward pass of the first layer \n",
    "\n",
    "o_L1 = Layer_1.forward_pass()\n",
    "o_L1\n"
   ]
  },
  {
   "cell_type": "code",
   "execution_count": 28,
   "metadata": {},
   "outputs": [
    {
     "ename": "NameError",
     "evalue": "name 'Layer_2' is not defined",
     "output_type": "error",
     "traceback": [
      "\u001b[0;31m---------------------------------------------------------------------------\u001b[0m",
      "\u001b[0;31mNameError\u001b[0m                                 Traceback (most recent call last)",
      "Cell \u001b[0;32mIn[28], line 1\u001b[0m\n\u001b[0;32m----> 1\u001b[0m Layer_2\n",
      "\u001b[0;31mNameError\u001b[0m: name 'Layer_2' is not defined"
     ]
    }
   ],
   "source": [
    "Layer_2 = Layer()"
   ]
  },
  {
   "cell_type": "code",
   "execution_count": null,
   "metadata": {},
   "outputs": [],
   "source": []
  }
 ],
 "metadata": {
  "kernelspec": {
   "display_name": "base",
   "language": "python",
   "name": "python3"
  },
  "language_info": {
   "codemirror_mode": {
    "name": "ipython",
    "version": 3
   },
   "file_extension": ".py",
   "mimetype": "text/x-python",
   "name": "python",
   "nbconvert_exporter": "python",
   "pygments_lexer": "ipython3",
   "version": "3.11.7"
  },
  "orig_nbformat": 4
 },
 "nbformat": 4,
 "nbformat_minor": 2
}
